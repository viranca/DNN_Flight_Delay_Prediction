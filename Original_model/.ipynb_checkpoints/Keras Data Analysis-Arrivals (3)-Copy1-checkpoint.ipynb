{
 "cells": [
  {
   "cell_type": "code",
   "execution_count": 4,
   "metadata": {},
   "outputs": [],
   "source": [
    "import numpy as np\n",
    "import pandas as pd\n",
    "import seaborn as sns\n",
    "import matplotlib.pyplot as plt\n",
    "%matplotlib inline\n",
    "from sklearn.model_selection import train_test_split\n",
    "import keras\n",
    "from sklearn.metrics import r2_score"
   ]
  },
  {
   "cell_type": "code",
   "execution_count": 5,
   "metadata": {},
   "outputs": [
    {
     "data": {
      "text/html": [
       "<div>\n",
       "<style scoped>\n",
       "    .dataframe tbody tr th:only-of-type {\n",
       "        vertical-align: middle;\n",
       "    }\n",
       "\n",
       "    .dataframe tbody tr th {\n",
       "        vertical-align: top;\n",
       "    }\n",
       "\n",
       "    .dataframe thead th {\n",
       "        text-align: right;\n",
       "    }\n",
       "</style>\n",
       "<table border=\"1\" class=\"dataframe\">\n",
       "  <thead>\n",
       "    <tr style=\"text-align: right;\">\n",
       "      <th></th>\n",
       "      <th>FltNbr</th>\n",
       "      <th>AircraftType</th>\n",
       "      <th>SchedDepTime</th>\n",
       "      <th>SchedArrTime</th>\n",
       "      <th>BlockArrDate</th>\n",
       "      <th>BlockArrTime</th>\n",
       "      <th>MsgDate</th>\n",
       "      <th>MsgTime</th>\n",
       "      <th>NewMsgDate</th>\n",
       "      <th>BlockDepDate</th>\n",
       "      <th>BlockDepTime</th>\n",
       "      <th>TimeToFly</th>\n",
       "      <th>DepCountry</th>\n",
       "      <th>Error</th>\n",
       "    </tr>\n",
       "  </thead>\n",
       "  <tbody>\n",
       "    <tr>\n",
       "      <th>0</th>\n",
       "      <td>4</td>\n",
       "      <td>321</td>\n",
       "      <td>715</td>\n",
       "      <td>830</td>\n",
       "      <td>231112</td>\n",
       "      <td>838</td>\n",
       "      <td>231112</td>\n",
       "      <td>722</td>\n",
       "      <td>231112</td>\n",
       "      <td>231112</td>\n",
       "      <td>721</td>\n",
       "      <td>60</td>\n",
       "      <td>6</td>\n",
       "      <td>16</td>\n",
       "    </tr>\n",
       "    <tr>\n",
       "      <th>1</th>\n",
       "      <td>4</td>\n",
       "      <td>321</td>\n",
       "      <td>715</td>\n",
       "      <td>830</td>\n",
       "      <td>231112</td>\n",
       "      <td>838</td>\n",
       "      <td>231112</td>\n",
       "      <td>733</td>\n",
       "      <td>231112</td>\n",
       "      <td>231112</td>\n",
       "      <td>721</td>\n",
       "      <td>50</td>\n",
       "      <td>6</td>\n",
       "      <td>15</td>\n",
       "    </tr>\n",
       "    <tr>\n",
       "      <th>2</th>\n",
       "      <td>4</td>\n",
       "      <td>321</td>\n",
       "      <td>715</td>\n",
       "      <td>830</td>\n",
       "      <td>231112</td>\n",
       "      <td>838</td>\n",
       "      <td>231112</td>\n",
       "      <td>756</td>\n",
       "      <td>231112</td>\n",
       "      <td>231112</td>\n",
       "      <td>721</td>\n",
       "      <td>32</td>\n",
       "      <td>6</td>\n",
       "      <td>10</td>\n",
       "    </tr>\n",
       "    <tr>\n",
       "      <th>3</th>\n",
       "      <td>4</td>\n",
       "      <td>321</td>\n",
       "      <td>715</td>\n",
       "      <td>830</td>\n",
       "      <td>231112</td>\n",
       "      <td>838</td>\n",
       "      <td>231112</td>\n",
       "      <td>817</td>\n",
       "      <td>231112</td>\n",
       "      <td>231112</td>\n",
       "      <td>721</td>\n",
       "      <td>19</td>\n",
       "      <td>6</td>\n",
       "      <td>2</td>\n",
       "    </tr>\n",
       "    <tr>\n",
       "      <th>4</th>\n",
       "      <td>4</td>\n",
       "      <td>321</td>\n",
       "      <td>715</td>\n",
       "      <td>830</td>\n",
       "      <td>231112</td>\n",
       "      <td>838</td>\n",
       "      <td>231112</td>\n",
       "      <td>824</td>\n",
       "      <td>231112</td>\n",
       "      <td>231112</td>\n",
       "      <td>721</td>\n",
       "      <td>14</td>\n",
       "      <td>6</td>\n",
       "      <td>0</td>\n",
       "    </tr>\n",
       "  </tbody>\n",
       "</table>\n",
       "</div>"
      ],
      "text/plain": [
       "   FltNbr AircraftType  SchedDepTime  SchedArrTime  BlockArrDate  \\\n",
       "0       4          321           715           830        231112   \n",
       "1       4          321           715           830        231112   \n",
       "2       4          321           715           830        231112   \n",
       "3       4          321           715           830        231112   \n",
       "4       4          321           715           830        231112   \n",
       "\n",
       "   BlockArrTime  MsgDate  MsgTime  NewMsgDate  BlockDepDate  BlockDepTime  \\\n",
       "0           838   231112      722      231112        231112           721   \n",
       "1           838   231112      733      231112        231112           721   \n",
       "2           838   231112      756      231112        231112           721   \n",
       "3           838   231112      817      231112        231112           721   \n",
       "4           838   231112      824      231112        231112           721   \n",
       "\n",
       "   TimeToFly  DepCountry  Error  \n",
       "0         60           6     16  \n",
       "1         50           6     15  \n",
       "2         32           6     10  \n",
       "3         19           6      2  \n",
       "4         14           6      0  "
      ]
     },
     "execution_count": 5,
     "metadata": {},
     "output_type": "execute_result"
    }
   ],
   "source": [
    "flight_arrivals = pd.read_csv('Arriving Data.csv')\n",
    "flight_arrivals.drop('NewMsgTime',axis=1,inplace=True)\n",
    "flight_arrivals.head()"
   ]
  },
  {
   "cell_type": "code",
   "execution_count": 6,
   "metadata": {},
   "outputs": [],
   "source": [
    "flight_arrivals.drop(['AircraftType','BlockArrTime','DepCountry','BlockArrDate','MsgDate', 'NewMsgDate', 'BlockDepDate'],axis=1,inplace=True)"
   ]
  },
  {
   "cell_type": "code",
   "execution_count": 7,
   "metadata": {},
   "outputs": [],
   "source": [
    "from sklearn.preprocessing import LabelEncoder\n",
    "number = LabelEncoder()"
   ]
  },
  {
   "cell_type": "code",
   "execution_count": 8,
   "metadata": {},
   "outputs": [],
   "source": [
    "# flight_arrivals['AircraftType'] = number.fit_transform(flight_arrivals['AircraftType'])"
   ]
  },
  {
   "cell_type": "code",
   "execution_count": 9,
   "metadata": {},
   "outputs": [
    {
     "data": {
      "text/plain": [
       "(280332, 7)"
      ]
     },
     "execution_count": 9,
     "metadata": {},
     "output_type": "execute_result"
    }
   ],
   "source": [
    "flight_arrivals.shape"
   ]
  },
  {
   "cell_type": "code",
   "execution_count": 10,
   "metadata": {},
   "outputs": [],
   "source": [
    "mean = flight_arrivals.mean(axis=0)\n",
    "meanE = flight_arrivals['Error'].mean(axis=0)\n",
    "stdE = flight_arrivals['Error'].std(axis=0)\n",
    "flight_arrdata = flight_arrivals - mean\n",
    "std = flight_arrivals.std(axis=0)\n",
    "flight_arrdata = flight_arrdata / std"
   ]
  },
  {
   "cell_type": "code",
   "execution_count": 11,
   "metadata": {},
   "outputs": [
    {
     "data": {
      "text/plain": [
       "(280332, 7)"
      ]
     },
     "execution_count": 11,
     "metadata": {},
     "output_type": "execute_result"
    }
   ],
   "source": [
    "flight_arrdata.shape"
   ]
  },
  {
   "cell_type": "code",
   "execution_count": 12,
   "metadata": {},
   "outputs": [],
   "source": [
    "X = flight_arrdata.drop('Error',axis=1)\n",
    "y = flight_arrdata['Error']"
   ]
  },
  {
   "cell_type": "code",
   "execution_count": 13,
   "metadata": {},
   "outputs": [
    {
     "name": "stderr",
     "output_type": "stream",
     "text": [
      "C:\\Users\\viran\\AppData\\Local\\conda\\conda\\envs\\python36_gpu\\lib\\site-packages\\ipykernel_launcher.py:1: FutureWarning: Method .as_matrix will be removed in a future version. Use .values instead.\n",
      "  \"\"\"Entry point for launching an IPython kernel.\n",
      "C:\\Users\\viran\\AppData\\Local\\conda\\conda\\envs\\python36_gpu\\lib\\site-packages\\ipykernel_launcher.py:2: FutureWarning: Method .as_matrix will be removed in a future version. Use .values instead.\n",
      "  \n"
     ]
    }
   ],
   "source": [
    "x = X.as_matrix()\n",
    "y = y.as_matrix()"
   ]
  },
  {
   "cell_type": "code",
   "execution_count": 14,
   "metadata": {},
   "outputs": [],
   "source": [
    "x_train, x_test, y_train, y_test = train_test_split(x, y, test_size=0.3)"
   ]
  },
  {
   "cell_type": "code",
   "execution_count": 15,
   "metadata": {},
   "outputs": [
    {
     "data": {
      "text/plain": [
       "(196232, 6)"
      ]
     },
     "execution_count": 15,
     "metadata": {},
     "output_type": "execute_result"
    }
   ],
   "source": [
    "x_train.shape"
   ]
  },
  {
   "cell_type": "code",
   "execution_count": 16,
   "metadata": {},
   "outputs": [],
   "source": [
    "def build_model():\n",
    "    model = keras.models.Sequential()\n",
    "    model.add(keras.layers.Dense(256,\n",
    "                           input_shape=(x_train.shape[1],)))\n",
    "    model.add(keras.layers.PReLU(alpha_initializer='zeros'))\n",
    "    model.add(keras.layers.Dense(256))\n",
    "    model.add(keras.layers.PReLU(alpha_initializer='zeros'))\n",
    "    model.add(keras.layers.Dense(128))\n",
    "    model.add(keras.layers.PReLU(alpha_initializer='zeros'))\n",
    "    model.add(keras.layers.Dense(1))\n",
    "    model.compile(optimizer='adam', loss='mse', metrics=['mae'])\n",
    "    return model"
   ]
  },
  {
   "cell_type": "code",
   "execution_count": 19,
   "metadata": {},
   "outputs": [
    {
     "name": "stdout",
     "output_type": "stream",
     "text": [
      "Train on 156985 samples, validate on 39247 samples\n",
      "Epoch 1/100\n",
      "156985/156985 [==============================] - 6s 40us/step - loss: 0.7273 - mean_absolute_error: 0.2295 - val_loss: 0.7487 - val_mean_absolute_error: 0.2734\n",
      "Epoch 2/100\n",
      "156985/156985 [==============================] - 5s 35us/step - loss: 0.5809 - mean_absolute_error: 0.1900 - val_loss: 0.6336 - val_mean_absolute_error: 0.1722\n",
      "Epoch 3/100\n",
      "156985/156985 [==============================] - 5s 35us/step - loss: 0.5356 - mean_absolute_error: 0.1622 - val_loss: 0.5853 - val_mean_absolute_error: 0.1425\n",
      "Epoch 4/100\n",
      "156985/156985 [==============================] - 6s 36us/step - loss: 0.5055 - mean_absolute_error: 0.1479 - val_loss: 0.6393 - val_mean_absolute_error: 0.1485\n",
      "Epoch 5/100\n",
      "156985/156985 [==============================] - 5s 35us/step - loss: 0.5118 - mean_absolute_error: 0.1490 - val_loss: 0.5817 - val_mean_absolute_error: 0.1761\n",
      "Epoch 6/100\n",
      "156985/156985 [==============================] - 5s 33us/step - loss: 0.4816 - mean_absolute_error: 0.1446 - val_loss: 0.5478 - val_mean_absolute_error: 0.1359\n",
      "Epoch 7/100\n",
      "156985/156985 [==============================] - 5s 34us/step - loss: 0.4748 - mean_absolute_error: 0.1430 - val_loss: 0.5334 - val_mean_absolute_error: 0.1258\n",
      "Epoch 8/100\n",
      "156985/156985 [==============================] - 5s 33us/step - loss: 0.4521 - mean_absolute_error: 0.1366 - val_loss: 0.5823 - val_mean_absolute_error: 0.1571\n",
      "Epoch 9/100\n",
      "156985/156985 [==============================] - 5s 32us/step - loss: 0.4516 - mean_absolute_error: 0.1364 - val_loss: 0.5361 - val_mean_absolute_error: 0.1315\n",
      "Epoch 10/100\n",
      "156985/156985 [==============================] - 5s 33us/step - loss: 0.4452 - mean_absolute_error: 0.1357 - val_loss: 0.5574 - val_mean_absolute_error: 0.1491\n",
      "Epoch 11/100\n",
      "156985/156985 [==============================] - 5s 33us/step - loss: 0.4415 - mean_absolute_error: 0.1337 - val_loss: 0.5570 - val_mean_absolute_error: 0.1295\n",
      "Epoch 12/100\n",
      "156985/156985 [==============================] - 5s 33us/step - loss: 0.4369 - mean_absolute_error: 0.1314 - val_loss: 0.5878 - val_mean_absolute_error: 0.1295\n",
      "Epoch 13/100\n",
      "156985/156985 [==============================] - 5s 33us/step - loss: 0.3995 - mean_absolute_error: 0.1206 - val_loss: 0.4991 - val_mean_absolute_error: 0.1181\n",
      "Epoch 14/100\n",
      "156985/156985 [==============================] - 5s 33us/step - loss: 0.3850 - mean_absolute_error: 0.1177 - val_loss: 0.5033 - val_mean_absolute_error: 0.1200\n",
      "Epoch 15/100\n",
      "156985/156985 [==============================] - 5s 33us/step - loss: 0.3851 - mean_absolute_error: 0.1176 - val_loss: 0.4892 - val_mean_absolute_error: 0.1280\n",
      "Epoch 16/100\n",
      "156985/156985 [==============================] - 5s 34us/step - loss: 0.3777 - mean_absolute_error: 0.1177 - val_loss: 0.5063 - val_mean_absolute_error: 0.1210\n",
      "Epoch 17/100\n",
      "156985/156985 [==============================] - 5s 34us/step - loss: 0.3721 - mean_absolute_error: 0.1163 - val_loss: 0.4997 - val_mean_absolute_error: 0.1213\n",
      "Epoch 18/100\n",
      "156985/156985 [==============================] - 5s 35us/step - loss: 0.3670 - mean_absolute_error: 0.1167 - val_loss: 0.5064 - val_mean_absolute_error: 0.1531\n",
      "Epoch 19/100\n",
      "156985/156985 [==============================] - 6s 35us/step - loss: 0.3643 - mean_absolute_error: 0.1177 - val_loss: 0.4653 - val_mean_absolute_error: 0.1256\n",
      "Epoch 20/100\n",
      "156985/156985 [==============================] - 6s 36us/step - loss: 0.3675 - mean_absolute_error: 0.1163 - val_loss: 0.4693 - val_mean_absolute_error: 0.1139\n",
      "Epoch 21/100\n",
      "156985/156985 [==============================] - 6s 35us/step - loss: 0.3605 - mean_absolute_error: 0.1161 - val_loss: 0.4791 - val_mean_absolute_error: 0.1096\n",
      "Epoch 22/100\n",
      "156985/156985 [==============================] - 6s 35us/step - loss: 0.3567 - mean_absolute_error: 0.1144 - val_loss: 0.4687 - val_mean_absolute_error: 0.1201\n",
      "Epoch 23/100\n",
      "156985/156985 [==============================] - 5s 35us/step - loss: 0.3562 - mean_absolute_error: 0.1163 - val_loss: 0.4870 - val_mean_absolute_error: 0.1156\n",
      "Epoch 24/100\n",
      "156985/156985 [==============================] - 5s 35us/step - loss: 0.3546 - mean_absolute_error: 0.1151 - val_loss: 0.4599 - val_mean_absolute_error: 0.1155\n",
      "Epoch 25/100\n",
      "156985/156985 [==============================] - 6s 35us/step - loss: 0.3532 - mean_absolute_error: 0.1153 - val_loss: 0.4536 - val_mean_absolute_error: 0.1210\n",
      "Epoch 26/100\n",
      "156985/156985 [==============================] - 5s 34us/step - loss: 0.3486 - mean_absolute_error: 0.1149 - val_loss: 0.4586 - val_mean_absolute_error: 0.1184\n",
      "Epoch 27/100\n",
      "156985/156985 [==============================] - 6s 35us/step - loss: 0.3507 - mean_absolute_error: 0.1134 - val_loss: 0.4497 - val_mean_absolute_error: 0.1169\n",
      "Epoch 28/100\n",
      "156985/156985 [==============================] - 6s 35us/step - loss: 0.3461 - mean_absolute_error: 0.1134 - val_loss: 0.4544 - val_mean_absolute_error: 0.1401\n",
      "Epoch 29/100\n",
      "156985/156985 [==============================] - 6s 35us/step - loss: 0.3393 - mean_absolute_error: 0.1131 - val_loss: 0.4593 - val_mean_absolute_error: 0.1063\n",
      "Epoch 30/100\n",
      "156985/156985 [==============================] - 6s 35us/step - loss: 0.3392 - mean_absolute_error: 0.1133 - val_loss: 0.4638 - val_mean_absolute_error: 0.1138\n",
      "Epoch 31/100\n",
      "156985/156985 [==============================] - 6s 36us/step - loss: 0.3401 - mean_absolute_error: 0.1124 - val_loss: 0.4583 - val_mean_absolute_error: 0.1215\n",
      "Epoch 32/100\n",
      "156985/156985 [==============================] - 6s 36us/step - loss: 0.3415 - mean_absolute_error: 0.1141 - val_loss: 0.4531 - val_mean_absolute_error: 0.1205\n",
      "Epoch 33/100\n",
      "156985/156985 [==============================] - 6s 36us/step - loss: 0.3192 - mean_absolute_error: 0.1045 - val_loss: 0.4299 - val_mean_absolute_error: 0.1130\n",
      "Epoch 34/100\n",
      "156985/156985 [==============================] - 6s 36us/step - loss: 0.3138 - mean_absolute_error: 0.1043 - val_loss: 0.4298 - val_mean_absolute_error: 0.1091\n",
      "Epoch 35/100\n",
      "156985/156985 [==============================] - 6s 35us/step - loss: 0.3090 - mean_absolute_error: 0.1046 - val_loss: 0.4241 - val_mean_absolute_error: 0.1134\n",
      "Epoch 36/100\n",
      "156985/156985 [==============================] - 5s 35us/step - loss: 0.3145 - mean_absolute_error: 0.1048 - val_loss: 0.4094 - val_mean_absolute_error: 0.1076\n",
      "Epoch 37/100\n",
      "156985/156985 [==============================] - 5s 35us/step - loss: 0.3103 - mean_absolute_error: 0.1039 - val_loss: 0.4044 - val_mean_absolute_error: 0.1166\n",
      "Epoch 38/100\n",
      "156985/156985 [==============================] - 5s 34us/step - loss: 0.3062 - mean_absolute_error: 0.1046 - val_loss: 0.4118 - val_mean_absolute_error: 0.1038\n",
      "Epoch 39/100\n",
      "156985/156985 [==============================] - 6s 35us/step - loss: 0.3076 - mean_absolute_error: 0.1042 - val_loss: 0.3937 - val_mean_absolute_error: 0.1091\n",
      "Epoch 40/100\n",
      "156985/156985 [==============================] - 5s 35us/step - loss: 0.3014 - mean_absolute_error: 0.1037 - val_loss: 0.3956 - val_mean_absolute_error: 0.1121\n",
      "Epoch 41/100\n",
      "156985/156985 [==============================] - 6s 36us/step - loss: 0.3029 - mean_absolute_error: 0.1030 - val_loss: 0.3982 - val_mean_absolute_error: 0.1129\n",
      "Epoch 42/100\n",
      "156985/156985 [==============================] - 6s 36us/step - loss: 0.3007 - mean_absolute_error: 0.1039 - val_loss: 0.4037 - val_mean_absolute_error: 0.1066\n",
      "Epoch 43/100\n",
      "156985/156985 [==============================] - 5s 34us/step - loss: 0.2994 - mean_absolute_error: 0.1041 - val_loss: 0.3969 - val_mean_absolute_error: 0.1023\n",
      "Epoch 44/100\n",
      "156985/156985 [==============================] - 5s 34us/step - loss: 0.2992 - mean_absolute_error: 0.1035 - val_loss: 0.3835 - val_mean_absolute_error: 0.1081\n",
      "Epoch 45/100\n",
      "156985/156985 [==============================] - 5s 34us/step - loss: 0.2995 - mean_absolute_error: 0.1046 - val_loss: 0.3817 - val_mean_absolute_error: 0.1032\n",
      "Epoch 46/100\n",
      "156985/156985 [==============================] - 6s 39us/step - loss: 0.2951 - mean_absolute_error: 0.1028 - val_loss: 0.3806 - val_mean_absolute_error: 0.1083\n",
      "Epoch 47/100\n",
      "156985/156985 [==============================] - 6s 36us/step - loss: 0.2973 - mean_absolute_error: 0.1044 - val_loss: 0.3941 - val_mean_absolute_error: 0.1066\n",
      "Epoch 48/100\n",
      "156985/156985 [==============================] - 6s 35us/step - loss: 0.2926 - mean_absolute_error: 0.1035 - val_loss: 0.3851 - val_mean_absolute_error: 0.1082\n",
      "Epoch 49/100\n",
      "156985/156985 [==============================] - 5s 34us/step - loss: 0.2926 - mean_absolute_error: 0.1042 - val_loss: 0.3825 - val_mean_absolute_error: 0.1065\n",
      "Epoch 50/100\n",
      "156985/156985 [==============================] - 5s 34us/step - loss: 0.2898 - mean_absolute_error: 0.1039 - val_loss: 0.3847 - val_mean_absolute_error: 0.1100\n",
      "Epoch 51/100\n",
      "156985/156985 [==============================] - 6s 35us/step - loss: 0.2884 - mean_absolute_error: 0.1031 - val_loss: 0.3718 - val_mean_absolute_error: 0.1133\n",
      "Epoch 52/100\n",
      "156985/156985 [==============================] - 5s 33us/step - loss: 0.2916 - mean_absolute_error: 0.1042 - val_loss: 0.3799 - val_mean_absolute_error: 0.1257\n",
      "Epoch 53/100\n",
      "156985/156985 [==============================] - 5s 33us/step - loss: 0.2843 - mean_absolute_error: 0.1038 - val_loss: 0.3946 - val_mean_absolute_error: 0.1057\n",
      "Epoch 54/100\n",
      "156985/156985 [==============================] - 5s 35us/step - loss: 0.2873 - mean_absolute_error: 0.1034 - val_loss: 0.3761 - val_mean_absolute_error: 0.1085\n",
      "Epoch 55/100\n",
      "156985/156985 [==============================] - 5s 34us/step - loss: 0.2848 - mean_absolute_error: 0.1036 - val_loss: 0.3795 - val_mean_absolute_error: 0.1150\n",
      "Epoch 56/100\n",
      "156985/156985 [==============================] - 5s 34us/step - loss: 0.2813 - mean_absolute_error: 0.1030 - val_loss: 0.3693 - val_mean_absolute_error: 0.1068\n",
      "Epoch 57/100\n",
      "156985/156985 [==============================] - 6s 35us/step - loss: 0.2863 - mean_absolute_error: 0.1031 - val_loss: 0.3823 - val_mean_absolute_error: 0.1297\n",
      "Epoch 58/100\n",
      "156985/156985 [==============================] - 5s 34us/step - loss: 0.2829 - mean_absolute_error: 0.1037 - val_loss: 0.3876 - val_mean_absolute_error: 0.1056\n"
     ]
    }
   ],
   "source": [
    "callbacks = [\n",
    "    keras.callbacks.ModelCheckpoint(\n",
    "        filepath = \"DNN.h5\",\n",
    "        monitor = 'val_loss',\n",
    "        save_best_only=True,\n",
    "    ),\n",
    "    keras.callbacks.EarlyStopping(\n",
    "        monitor = 'val_mean_absolute_error',\n",
    "        patience = 15,\n",
    "    ),\n",
    "    keras.callbacks.ReduceLROnPlateau(\n",
    "        monitor='val_loss',\n",
    "        factor=0.5,\n",
    "        patience=5,\n",
    "    )\n",
    "#     keras.callbacks.TensorBoard(\n",
    "#         log_dir=\"./Model_Logs/Graphs/Arrivals\",\n",
    "#         histogram_freq=1,\n",
    "#     )\n",
    "]\n",
    "\n",
    "model = build_model()\n",
    "\n",
    "history = model.fit(x_train, y_train,\n",
    "                    epochs=100,\n",
    "                    batch_size=128,\n",
    "                    validation_split=0.2,\n",
    "                    callbacks=callbacks)"
   ]
  },
  {
   "cell_type": "code",
   "execution_count": null,
   "metadata": {},
   "outputs": [],
   "source": []
  },
  {
   "cell_type": "code",
   "execution_count": 20,
   "metadata": {},
   "outputs": [],
   "source": [
    "val_mae = history.history['val_mean_absolute_error']"
   ]
  },
  {
   "cell_type": "code",
   "execution_count": 21,
   "metadata": {},
   "outputs": [],
   "source": [
    "loss = history.history['loss']\n",
    "val_loss = history.history['val_loss']"
   ]
  },
  {
   "cell_type": "code",
   "execution_count": 22,
   "metadata": {},
   "outputs": [],
   "source": [
    "epochs = range(1, len(loss) + 1)"
   ]
  },
  {
   "cell_type": "code",
   "execution_count": 23,
   "metadata": {},
   "outputs": [
    {
     "data": {
      "image/png": "[encoded data removed]",
      "text/plain": [
       "<Figure size 432x288 with 1 Axes>"
      ]
     },
     "metadata": {
      "needs_background": "light"
     },
     "output_type": "display_data"
    }
   ],
   "source": [
    "plt.plot(epochs, loss, 'bo', label='Training loss')\n",
    "plt.plot(epochs, val_loss, 'b', label='Validation loss')\n",
    "plt.title('Training and validation loss')\n",
    "plt.xlabel('Epochs')\n",
    "plt.ylabel('Loss')\n",
    "\n",
    "plt.show()"
   ]
  },
  {
   "cell_type": "code",
   "execution_count": 24,
   "metadata": {},
   "outputs": [
    {
     "data": {
      "image/png": "[encoded data removed]",
      "text/plain": [
       "<Figure size 432x288 with 1 Axes>"
      ]
     },
     "metadata": {
      "needs_background": "light"
     },
     "output_type": "display_data"
    }
   ],
   "source": [
    "mae_history = history.history['val_mean_absolute_error']\n",
    "\n",
    "plt.plot(range(1, len(mae_history) + 1), mae_history)\n",
    "plt.xlabel('Epochs')\n",
    "plt.ylabel('Validation MAE')\n",
    "\n",
    "plt.show()"
   ]
  },
  {
   "cell_type": "code",
   "execution_count": 25,
   "metadata": {},
   "outputs": [
    {
     "name": "stdout",
     "output_type": "stream",
     "text": [
      "Epoch 1/39\n",
      "196232/196232 [==============================] - 7s 34us/step - loss: 0.7200 - mean_absolute_error: 0.2228\n",
      "Epoch 2/39\n",
      "196232/196232 [==============================] - 6s 33us/step - loss: 0.5647 - mean_absolute_error: 0.1739\n",
      "Epoch 3/39\n",
      "196232/196232 [==============================] - 6s 33us/step - loss: 0.5419 - mean_absolute_error: 0.1551\n",
      "Epoch 4/39\n",
      "196232/196232 [==============================] - 7s 34us/step - loss: 0.5213 - mean_absolute_error: 0.1445\n",
      "Epoch 5/39\n",
      "196232/196232 [==============================] - 6s 32us/step - loss: 0.5000 - mean_absolute_error: 0.1405\n",
      "Epoch 6/39\n",
      "196232/196232 [==============================] - 6s 32us/step - loss: 0.4890 - mean_absolute_error: 0.1404\n",
      "Epoch 7/39\n",
      "196232/196232 [==============================] - 6s 33us/step - loss: 0.4799 - mean_absolute_error: 0.1373\n",
      "Epoch 8/39\n",
      "196232/196232 [==============================] - 7s 33us/step - loss: 0.4756 - mean_absolute_error: 0.1363\n",
      "Epoch 9/39\n",
      "196232/196232 [==============================] - 6s 33us/step - loss: 0.4719 - mean_absolute_error: 0.1361\n",
      "Epoch 10/39\n",
      "196232/196232 [==============================] - 6s 32us/step - loss: 0.4475 - mean_absolute_error: 0.1316\n",
      "Epoch 11/39\n",
      "196232/196232 [==============================] - 6s 33us/step - loss: 0.4565 - mean_absolute_error: 0.1335\n",
      "Epoch 12/39\n",
      "196232/196232 [==============================] - 6s 32us/step - loss: 0.4527 - mean_absolute_error: 0.1351\n",
      "Epoch 13/39\n",
      "196232/196232 [==============================] - 6s 32us/step - loss: 0.4435 - mean_absolute_error: 0.1309\n",
      "Epoch 14/39\n",
      "196232/196232 [==============================] - 6s 33us/step - loss: 0.4232 - mean_absolute_error: 0.1299\n",
      "Epoch 15/39\n",
      "196232/196232 [==============================] - 6s 32us/step - loss: 0.4264 - mean_absolute_error: 0.1299\n",
      "Epoch 16/39\n",
      "196232/196232 [==============================] - 6s 32us/step - loss: 0.4149 - mean_absolute_error: 0.1264\n",
      "Epoch 17/39\n",
      "196232/196232 [==============================] - 7s 34us/step - loss: 0.4115 - mean_absolute_error: 0.1275\n",
      "Epoch 18/39\n",
      "196232/196232 [==============================] - 6s 32us/step - loss: 0.4032 - mean_absolute_error: 0.1252\n",
      "Epoch 19/39\n",
      "196232/196232 [==============================] - 6s 32us/step - loss: 0.3993 - mean_absolute_error: 0.1257\n",
      "Epoch 20/39\n",
      "196232/196232 [==============================] - 7s 33us/step - loss: 0.3936 - mean_absolute_error: 0.1262\n",
      "Epoch 21/39\n",
      "196232/196232 [==============================] - 7s 37us/step - loss: 0.3796 - mean_absolute_error: 0.1229\n",
      "Epoch 22/39\n",
      "196232/196232 [==============================] - 17s 85us/step - loss: 0.3927 - mean_absolute_error: 0.1252\n",
      "Epoch 23/39\n",
      "196232/196232 [==============================] - 8s 39us/step - loss: 0.3704 - mean_absolute_error: 0.1230\n",
      "Epoch 24/39\n",
      "196232/196232 [==============================] - 6s 33us/step - loss: 0.3701 - mean_absolute_error: 0.1223\n",
      "Epoch 25/39\n",
      "196232/196232 [==============================] - 8s 41us/step - loss: 0.3800 - mean_absolute_error: 0.1241\n",
      "Epoch 26/39\n",
      "196232/196232 [==============================] - 7s 35us/step - loss: 0.3690 - mean_absolute_error: 0.1223\n",
      "Epoch 27/39\n",
      "196232/196232 [==============================] - 7s 34us/step - loss: 0.3789 - mean_absolute_error: 0.1226\n",
      "Epoch 28/39\n",
      "196232/196232 [==============================] - 7s 35us/step - loss: 0.3568 - mean_absolute_error: 0.1192\n",
      "Epoch 29/39\n",
      "196232/196232 [==============================] - 12s 59us/step - loss: 0.3611 - mean_absolute_error: 0.1225\n",
      "Epoch 30/39\n",
      "196232/196232 [==============================] - 10s 52us/step - loss: 0.3656 - mean_absolute_error: 0.1220\n",
      "Epoch 31/39\n",
      "196232/196232 [==============================] - 7s 38us/step - loss: 0.3722 - mean_absolute_error: 0.1206\n",
      "Epoch 32/39\n",
      "196232/196232 [==============================] - 7s 34us/step - loss: 0.3576 - mean_absolute_error: 0.1184\n",
      "Epoch 33/39\n",
      "196232/196232 [==============================] - 7s 37us/step - loss: 0.3570 - mean_absolute_error: 0.1194\n",
      "Epoch 34/39\n",
      "196232/196232 [==============================] - 7s 34us/step - loss: 0.3551 - mean_absolute_error: 0.1182\n",
      "Epoch 35/39\n",
      "196232/196232 [==============================] - 7s 34us/step - loss: 0.3604 - mean_absolute_error: 0.1204\n",
      "Epoch 36/39\n",
      "196232/196232 [==============================] - 6s 33us/step - loss: 0.3502 - mean_absolute_error: 0.1182\n",
      "Epoch 37/39\n",
      "196232/196232 [==============================] - 7s 33us/step - loss: 0.3556 - mean_absolute_error: 0.1205\n",
      "Epoch 38/39\n",
      "196232/196232 [==============================] - 7s 34us/step - loss: 0.3495 - mean_absolute_error: 0.1193\n",
      "Epoch 39/39\n",
      "196232/196232 [==============================] - 6s 33us/step - loss: 0.3543 - mean_absolute_error: 0.1186\n"
     ]
    },
    {
     "data": {
      "text/plain": [
       "<keras.callbacks.History at 0x20f67e959b0>"
      ]
     },
     "execution_count": 25,
     "metadata": {},
     "output_type": "execute_result"
    }
   ],
   "source": [
    "arr_model = build_model()\n",
    "\n",
    "arr_model.fit(x_train, y_train,\n",
    "         epochs=39, batch_size=128)"
   ]
  },
  {
   "cell_type": "code",
   "execution_count": 26,
   "metadata": {},
   "outputs": [
    {
     "name": "stdout",
     "output_type": "stream",
     "text": [
      "84100/84100 [==============================] - ETA:  - 3s 33us/step\n"
     ]
    }
   ],
   "source": [
    "results = arr_model.evaluate(x_test, y_test)\n",
    "predictions = arr_model.predict(x_test)\n",
    "r2 = r2_score(y_test,predictions)"
   ]
  },
  {
   "cell_type": "code",
   "execution_count": 27,
   "metadata": {},
   "outputs": [
    {
     "data": {
      "text/plain": [
       "0.42963789807244424"
      ]
     },
     "execution_count": 27,
     "metadata": {},
     "output_type": "execute_result"
    }
   ],
   "source": [
    "results[0]"
   ]
  },
  {
   "cell_type": "code",
   "execution_count": 28,
   "metadata": {},
   "outputs": [],
   "source": [
    "predicted_df = pd.DataFrame(predictions,columns=['Predicted Error'])"
   ]
  },
  {
   "cell_type": "code",
   "execution_count": 29,
   "metadata": {},
   "outputs": [],
   "source": [
    "# stand_feat = pd.DataFrame(x_test,columns=flight_data.columns[:-1])"
   ]
  },
  {
   "cell_type": "code",
   "execution_count": 30,
   "metadata": {},
   "outputs": [
    {
     "data": {
      "text/html": [
       "<div>\n",
       "<style scoped>\n",
       "    .dataframe tbody tr th:only-of-type {\n",
       "        vertical-align: middle;\n",
       "    }\n",
       "\n",
       "    .dataframe tbody tr th {\n",
       "        vertical-align: top;\n",
       "    }\n",
       "\n",
       "    .dataframe thead th {\n",
       "        text-align: right;\n",
       "    }\n",
       "</style>\n",
       "<table border=\"1\" class=\"dataframe\">\n",
       "  <thead>\n",
       "    <tr style=\"text-align: right;\">\n",
       "      <th></th>\n",
       "      <th>Predicted Error</th>\n",
       "    </tr>\n",
       "  </thead>\n",
       "  <tbody>\n",
       "    <tr>\n",
       "      <th>0</th>\n",
       "      <td>-0.047355</td>\n",
       "    </tr>\n",
       "    <tr>\n",
       "      <th>1</th>\n",
       "      <td>-2.543971</td>\n",
       "    </tr>\n",
       "    <tr>\n",
       "      <th>2</th>\n",
       "      <td>1.325662</td>\n",
       "    </tr>\n",
       "    <tr>\n",
       "      <th>3</th>\n",
       "      <td>-0.204443</td>\n",
       "    </tr>\n",
       "    <tr>\n",
       "      <th>4</th>\n",
       "      <td>-24.187508</td>\n",
       "    </tr>\n",
       "  </tbody>\n",
       "</table>\n",
       "</div>"
      ],
      "text/plain": [
       "   Predicted Error\n",
       "0        -0.047355\n",
       "1        -2.543971\n",
       "2         1.325662\n",
       "3        -0.204443\n",
       "4       -24.187508"
      ]
     },
     "execution_count": 30,
     "metadata": {},
     "output_type": "execute_result"
    }
   ],
   "source": [
    "unstand_predict = (predicted_df * stdE) + meanE\n",
    "unstand_predict.head()"
   ]
  },
  {
   "cell_type": "code",
   "execution_count": 31,
   "metadata": {},
   "outputs": [
    {
     "data": {
      "text/html": [
       "<div>\n",
       "<style scoped>\n",
       "    .dataframe tbody tr th:only-of-type {\n",
       "        vertical-align: middle;\n",
       "    }\n",
       "\n",
       "    .dataframe tbody tr th {\n",
       "        vertical-align: top;\n",
       "    }\n",
       "\n",
       "    .dataframe thead th {\n",
       "        text-align: right;\n",
       "    }\n",
       "</style>\n",
       "<table border=\"1\" class=\"dataframe\">\n",
       "  <thead>\n",
       "    <tr style=\"text-align: right;\">\n",
       "      <th></th>\n",
       "      <th>True Error</th>\n",
       "    </tr>\n",
       "  </thead>\n",
       "  <tbody>\n",
       "    <tr>\n",
       "      <th>0</th>\n",
       "      <td>2.0</td>\n",
       "    </tr>\n",
       "    <tr>\n",
       "      <th>1</th>\n",
       "      <td>-5.0</td>\n",
       "    </tr>\n",
       "    <tr>\n",
       "      <th>2</th>\n",
       "      <td>1.0</td>\n",
       "    </tr>\n",
       "    <tr>\n",
       "      <th>3</th>\n",
       "      <td>-1.0</td>\n",
       "    </tr>\n",
       "    <tr>\n",
       "      <th>4</th>\n",
       "      <td>-4.0</td>\n",
       "    </tr>\n",
       "  </tbody>\n",
       "</table>\n",
       "</div>"
      ],
      "text/plain": [
       "   True Error\n",
       "0         2.0\n",
       "1        -5.0\n",
       "2         1.0\n",
       "3        -1.0\n",
       "4        -4.0"
      ]
     },
     "execution_count": 31,
     "metadata": {},
     "output_type": "execute_result"
    }
   ],
   "source": [
    "test_df = pd.DataFrame(y_test,columns=['True Error'])\n",
    "unstand_test = (test_df * stdE) + meanE\n",
    "unstand_test.head()"
   ]
  },
  {
   "cell_type": "code",
   "execution_count": 32,
   "metadata": {},
   "outputs": [
    {
     "name": "stdout",
     "output_type": "stream",
     "text": [
      "0.6180483266678646\n"
     ]
    }
   ],
   "source": [
    "print(r2)"
   ]
  },
  {
   "cell_type": "code",
   "execution_count": null,
   "metadata": {},
   "outputs": [],
   "source": []
  },
  {
   "cell_type": "code",
   "execution_count": null,
   "metadata": {},
   "outputs": [],
   "source": []
  },
  {
   "cell_type": "code",
   "execution_count": null,
   "metadata": {},
   "outputs": [],
   "source": []
  }
 ],
 "metadata": {
  "kernelspec": {
   "display_name": "Python 3",
   "language": "python",
   "name": "python3"
  },
  "language_info": {
   "codemirror_mode": {
    "name": "ipython",
    "version": 3
   },
   "file_extension": ".py",
   "mimetype": "text/x-python",
   "name": "python",
   "nbconvert_exporter": "python",
   "pygments_lexer": "ipython3",
   "version": "3.6.7"
  }
 },
 "nbformat": 4,
 "nbformat_minor": 2
}
